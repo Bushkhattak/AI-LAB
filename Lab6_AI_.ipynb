{
  "nbformat": 4,
  "nbformat_minor": 0,
  "metadata": {
    "colab": {
      "provenance": [],
      "authorship_tag": "ABX9TyOF0PG3FiFr7vnsvyn9VaZe",
      "include_colab_link": true
    },
    "kernelspec": {
      "name": "python3",
      "display_name": "Python 3"
    },
    "language_info": {
      "name": "python"
    }
  },
  "cells": [
    {
      "cell_type": "markdown",
      "metadata": {
        "id": "view-in-github",
        "colab_type": "text"
      },
      "source": [
        "<a href=\"https://colab.research.google.com/github/Bushkhattak/AI-LAB/blob/main/Lab6_AI_.ipynb\" target=\"_parent\"><img src=\"https://colab.research.google.com/assets/colab-badge.svg\" alt=\"Open In Colab\"/></a>"
      ]
    },
    {
      "cell_type": "code",
      "source": [
        "import random\n",
        "\n",
        "class Environment:\n",
        "    def __init__(self):\n",
        "\n",
        "        self.locationCondition = {\n",
        "            'A': random.randint(0, 1),\n",
        "            'B': random.randint(0, 1),\n",
        "            'C': random.randint(0, 1),\n",
        "            'D': random.randint(0, 1)\n",
        "        }\n",
        "\n",
        "class SimpleReflexVacuumAgent:\n",
        "    def __init__(self, environment):\n",
        "        self.environment = environment\n",
        "        self.score = 0\n",
        "\n",
        "\n",
        "        self.vacuumLocation = random.randint(0, 3)\n",
        "\n",
        "\n",
        "        print(\"Initial environment conditions:\", self.environment.locationCondition)\n",
        "\n",
        "\n",
        "        if self.vacuumLocation == 0:\n",
        "            print(\"Vacuum is randomly placed at Location A.\")\n",
        "            self.clean_location('A')\n",
        "            self.move_and_clean('B')\n",
        "            self.move_and_clean('C')\n",
        "            self.move_and_clean('D')\n",
        "        elif self.vacuumLocation == 1:\n",
        "            print(\"Vacuum is randomly placed at Location B.\")\n",
        "            self.clean_location('B')\n",
        "            self.move_and_clean('C')\n",
        "            self.move_and_clean('D')\n",
        "            self.move_and_clean('A')\n",
        "        elif self.vacuumLocation == 2:\n",
        "            print(\"Vacuum is randomly placed at Location C.\")\n",
        "            self.clean_location('C')\n",
        "            self.move_and_clean('D')\n",
        "            self.move_and_clean('A')\n",
        "            self.move_and_clean('B')\n",
        "        else:\n",
        "            print(\"Vacuum is randomly placed at Location D.\")\n",
        "            self.clean_location('D')\n",
        "            self.move_and_clean('A')\n",
        "            self.move_and_clean('B')\n",
        "            self.move_and_clean('C')\n",
        "\n",
        "        # Output final conditions and score\n",
        "        print(\"Final environment conditions:\", self.environment.locationCondition)\n",
        "        print(\"Performance Measurement: \" + str(self.score))\n",
        "\n",
        "    def clean_location(self, location):\n",
        "        print(f\"Location {location} is {'Dirty' if self.environment.locationCondition[location] == 1 else 'Clean'}.\")\n",
        "        if self.environment.locationCondition[location] == 1:  # If dirty\n",
        "            self.environment.locationCondition[location] = 0  # Clean the location\n",
        "            self.score += 1\n",
        "            print(f\"Location {location} has been Cleaned.\")\n",
        "        else:\n",
        "            print(f\"Location {location} is already Clean.\")\n",
        "\n",
        "    def move_and_clean(self, location):\n",
        "        print(f\"Moving to Location {location}...\")\n",
        "        self.clean_location(location)\n",
        "\n",
        "theEnvironment = Environment()\n",
        "theVacuum = SimpleReflexVacuumAgent(theEnvironment)\n"
      ],
      "metadata": {
        "colab": {
          "base_uri": "https://localhost:8080/"
        },
        "id": "VVMa85koa5bD",
        "outputId": "b3dcf974-c07e-4b4f-d528-215fe9ace819"
      },
      "execution_count": null,
      "outputs": [
        {
          "output_type": "stream",
          "name": "stdout",
          "text": [
            "Initial environment conditions: {'A': 0, 'B': 1, 'C': 1, 'D': 0}\n",
            "Vacuum is randomly placed at Location D.\n",
            "Location D is Clean.\n",
            "Location D is already Clean.\n",
            "Moving to Location A...\n",
            "Location A is Clean.\n",
            "Location A is already Clean.\n",
            "Moving to Location B...\n",
            "Location B is Dirty.\n",
            "Location B has been Cleaned.\n",
            "Moving to Location C...\n",
            "Location C is Dirty.\n",
            "Location C has been Cleaned.\n",
            "Final environment conditions: {'A': 0, 'B': 0, 'C': 0, 'D': 0}\n",
            "Performance Measurement: 2\n"
          ]
        }
      ]
    }
  ]
}