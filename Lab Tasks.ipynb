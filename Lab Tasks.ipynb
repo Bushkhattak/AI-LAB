{
  "nbformat": 4,
  "nbformat_minor": 0,
  "metadata": {
    "colab": {
      "provenance": [],
      "authorship_tag": "ABX9TyOoDBpP/9ka9EayIfTwItdO",
      "include_colab_link": true
    },
    "kernelspec": {
      "name": "python3",
      "display_name": "Python 3"
    },
    "language_info": {
      "name": "python"
    }
  },
  "cells": [
    {
      "cell_type": "markdown",
      "metadata": {
        "id": "view-in-github",
        "colab_type": "text"
      },
      "source": [
        "<a href=\"https://colab.research.google.com/github/Bushkhattak/AI-LAB/blob/main/Lab%20Tasks.ipynb\" target=\"_parent\"><img src=\"https://colab.research.google.com/assets/colab-badge.svg\" alt=\"Open In Colab\"/></a>"
      ]
    },
    {
      "cell_type": "code",
      "source": [
        "#Task1\n",
        "\n",
        "import numpy as np\n",
        "\n",
        "float_array = np.array([[0.0, 1.0, 2.0], [3.0, 0.0, 4.5]])\n",
        "bool_array = float_array.astype(bool)\n",
        "print(bool_array)\n"
      ],
      "metadata": {
        "colab": {
          "base_uri": "https://localhost:8080/"
        },
        "id": "Z6IIBMGbgQrw",
        "outputId": "2d22d7c3-9f70-4ef9-815f-9b1effe3633f"
      },
      "execution_count": null,
      "outputs": [
        {
          "output_type": "stream",
          "name": "stdout",
          "text": [
            "[[False  True  True]\n",
            " [ True False  True]]\n"
          ]
        }
      ]
    },
    {
      "cell_type": "code",
      "source": [
        "#Task2\n",
        "import numpy as np\n",
        "\n",
        "array = np.array([10, 20, 30, 40, 50])\n",
        "pos = 2\n",
        "element = 55\n",
        "arrayUpdated = np.insert(array, pos, element)\n",
        "print(\"New Array after Updation is :\", arrayUpdated)\n",
        "\n"
      ],
      "metadata": {
        "colab": {
          "base_uri": "https://localhost:8080/"
        },
        "id": "AjyUogongn7U",
        "outputId": "f9dc89f6-2f25-4a2d-b116-e9516f44ec83"
      },
      "execution_count": null,
      "outputs": [
        {
          "output_type": "stream",
          "name": "stdout",
          "text": [
            "New Array after Updation is : [10 20 55 30 40 50]\n"
          ]
        }
      ]
    },
    {
      "cell_type": "code",
      "source": [
        "\n",
        "#Task3\n",
        "import numpy as np\n",
        "array = np.arange(0, 502, 2)\n",
        "\n",
        "print(array)\n"
      ],
      "metadata": {
        "colab": {
          "base_uri": "https://localhost:8080/"
        },
        "id": "Lcl60qzThYDY",
        "outputId": "76ef87ed-2758-4100-f29b-1b90321ec219"
      },
      "execution_count": null,
      "outputs": [
        {
          "output_type": "stream",
          "name": "stdout",
          "text": [
            "[  0   2   4   6   8  10  12  14  16  18  20  22  24  26  28  30  32  34\n",
            "  36  38  40  42  44  46  48  50  52  54  56  58  60  62  64  66  68  70\n",
            "  72  74  76  78  80  82  84  86  88  90  92  94  96  98 100 102 104 106\n",
            " 108 110 112 114 116 118 120 122 124 126 128 130 132 134 136 138 140 142\n",
            " 144 146 148 150 152 154 156 158 160 162 164 166 168 170 172 174 176 178\n",
            " 180 182 184 186 188 190 192 194 196 198 200 202 204 206 208 210 212 214\n",
            " 216 218 220 222 224 226 228 230 232 234 236 238 240 242 244 246 248 250\n",
            " 252 254 256 258 260 262 264 266 268 270 272 274 276 278 280 282 284 286\n",
            " 288 290 292 294 296 298 300 302 304 306 308 310 312 314 316 318 320 322\n",
            " 324 326 328 330 332 334 336 338 340 342 344 346 348 350 352 354 356 358\n",
            " 360 362 364 366 368 370 372 374 376 378 380 382 384 386 388 390 392 394\n",
            " 396 398 400 402 404 406 408 410 412 414 416 418 420 422 424 426 428 430\n",
            " 432 434 436 438 440 442 444 446 448 450 452 454 456 458 460 462 464 466\n",
            " 468 470 472 474 476 478 480 482 484 486 488 490 492 494 496 498 500]\n"
          ]
        }
      ]
    },
    {
      "cell_type": "code",
      "source": [
        "#Task4\n",
        "import numpy as np\n",
        "\n",
        "a = np.array([[1, 2, 3],[4, 5, 6]])\n",
        "b = np.array([[7, 8],[9, 10],[11, 12]])\n",
        "res = np.dot(a, b)\n",
        "print(\" The matrix  is \", res)\n",
        "\n"
      ],
      "metadata": {
        "colab": {
          "base_uri": "https://localhost:8080/"
        },
        "id": "OHwSoHxziJa2",
        "outputId": "eff0756b-22fd-4418-d72c-c17940f31bfb"
      },
      "execution_count": null,
      "outputs": [
        {
          "output_type": "stream",
          "name": "stdout",
          "text": [
            " The matrix  is  [[ 58  64]\n",
            " [139 154]]\n"
          ]
        }
      ]
    },
    {
      "cell_type": "code",
      "source": [
        "#Task5\n",
        "import numpy as np\n",
        "\n",
        "arr = np.array([5, 12, 18, 24, 35])\n",
        "\n",
        "num = 24\n",
        "if num in arr:\n",
        "    print(f\"{num} is present?\")\n",
        "else:\n",
        "    print(f\"{num} is not present?\")\n"
      ],
      "metadata": {
        "colab": {
          "base_uri": "https://localhost:8080/"
        },
        "id": "XlbVfQe1jCFu",
        "outputId": "f5c23c55-354e-479f-9a5c-251c140051e4"
      },
      "execution_count": null,
      "outputs": [
        {
          "output_type": "stream",
          "name": "stdout",
          "text": [
            "24 is present?\n"
          ]
        }
      ]
    }
  ]
}