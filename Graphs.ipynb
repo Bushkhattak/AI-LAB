{
  "nbformat": 4,
  "nbformat_minor": 0,
  "metadata": {
    "colab": {
      "provenance": [],
      "authorship_tag": "ABX9TyOqQXL1E+pW2T0/3pyBW1fJ",
      "include_colab_link": true
    },
    "kernelspec": {
      "name": "python3",
      "display_name": "Python 3"
    },
    "language_info": {
      "name": "python"
    }
  },
  "cells": [
    {
      "cell_type": "markdown",
      "metadata": {
        "id": "view-in-github",
        "colab_type": "text"
      },
      "source": [
        "<a href=\"https://colab.research.google.com/github/Bushkhattak/AI-LAB/blob/main/Graphs.ipynb\" target=\"_parent\"><img src=\"https://colab.research.google.com/assets/colab-badge.svg\" alt=\"Open In Colab\"/></a>"
      ]
    },
    {
      "cell_type": "code",
      "execution_count": null,
      "metadata": {
        "colab": {
          "base_uri": "https://localhost:8080/"
        },
        "id": "Hye9UvFKuCpv",
        "outputId": "898efb44-92dc-4c90-a01f-a1a5ebe3a90e"
      },
      "outputs": [
        {
          "output_type": "stream",
          "name": "stdout",
          "text": [
            "['A', 'B', 'D']\n"
          ]
        }
      ],
      "source": [
        "#Task1\n",
        "#Directed Graph\n",
        "graph= {'A': ['B','C'],\n",
        "        'B':['D'],\n",
        "        'C':['E'],\n",
        "        'D':['C','E'],\n",
        "        'E':[]\n",
        "\n",
        "        }\n",
        "def find_path(graph, start, end, path=[]):\n",
        "    path = path + [start]\n",
        "    if start == end:\n",
        "        return path\n",
        "    if start not in graph:\n",
        "        return None\n",
        "    for node in graph[start]:\n",
        "        if node not in path:\n",
        "            newpath = find_path(graph, node, end, path)\n",
        "            if newpath:\n",
        "                return newpath\n",
        "    return None\n",
        "\n",
        "print(find_path(graph, 'A', 'D'))"
      ]
    },
    {
      "cell_type": "code",
      "source": [
        "#Task2\n",
        "import heapq\n",
        "\n",
        "class Graph:\n",
        "    def __init__(self):\n",
        "        self.graph = {}\n",
        "        self.weights = {}\n",
        "\n",
        "    def add_edge(self, u, v, weight=1, directed=False):\n",
        "\n",
        "        if u not in self.graph:\n",
        "            self.graph[u] = []\n",
        "        self.graph[u].append(v)\n",
        "\n",
        "        if directed:\n",
        "\n",
        "            if (u, v) not in self.weights:\n",
        "                self.weights[(u, v)] = weight\n",
        "        else:\n",
        "\n",
        "            if v not in self.graph:\n",
        "                self.graph[v] = []\n",
        "            self.graph[v].append(u)\n",
        "            if (u, v) not in self.weights:\n",
        "                self.weights[(u, v)] = weight\n",
        "            if (v, u) not in self.weights:\n",
        "                self.weights[(v, u)] = weight\n",
        "\n",
        "    def neighbors(self, node):\n",
        "        return self.graph.get(node, [])\n",
        "\n",
        "    def edge_exists(self, u, v):\n",
        "        return v in self.graph.get(u, [])\n",
        "\n",
        "    def dijkstra(self, start, end):\n",
        "\n",
        "        priority_queue = [(0, start)]\n",
        "        distances = {node: float('inf') for node in self.graph}\n",
        "        distances[start] = 0\n",
        "        previous_nodes = {node: None for node in self.graph}\n",
        "\n",
        "        while priority_queue:\n",
        "            current_distance, current_node = heapq.heappop(priority_queue)\n",
        "\n",
        "            if current_distance > distances[current_node]:\n",
        "                continue\n",
        "\n",
        "            for neighbor in self.neighbors(current_node):\n",
        "                weight = self.weights.get((current_node, neighbor), float('inf'))\n",
        "                distance = current_distance + weight\n",
        "\n",
        "                if distance < distances[neighbor]:\n",
        "                    distances[neighbor] = distance\n",
        "                    previous_nodes[neighbor] = current_node\n",
        "                    heapq.heappush(priority_queue, (distance, neighbor))\n",
        "\n",
        "\n",
        "        path, current_node = [], end\n",
        "        while current_node is not None:\n",
        "            path.append(current_node)\n",
        "            current_node = previous_nodes[current_node]\n",
        "        path.reverse()\n",
        "\n",
        "        return path if distances[end] != float('inf') else None\n",
        "\n",
        "if __name__ == \"__main__\":\n",
        "    g = Graph()\n",
        "    g.add_edge('A', 'B', weight=2, directed=True)\n",
        "    g.add_edge('A', 'C', weight=3, directed=True)\n",
        "    g.add_edge('B', 'D', weight=1, directed=True)\n",
        "    g.add_edge('C', 'D', weight=4, directed=True)\n",
        "    g.add_edge('D', 'E', weight=2, directed=False)\n",
        "    print(f\"Neighbors of A: {g.neighbors('A')}\"\n",
        "    print(f\"Edge exists between A and B: {g.edge_exists('A', 'B')}\")\n",
        "    print(f\"Edge exists between B and A: {g.edge_exists('B', 'A')}\")\n",
        "\n",
        "    shortest_path = g.dijkstra('A', 'E')\n",
        "    if shortest_path:\n",
        "        print(f\"Shortest path from A to E: {' -> '.join(shortest_path)}\")\n",
        "    else:\n",
        "        print(\"No path found from A to E.\")\n"
      ],
      "metadata": {
        "colab": {
          "base_uri": "https://localhost:8080/"
        },
        "id": "bPxHcfoOzQYJ",
        "outputId": "5c9e591e-2d1c-482f-98d1-d842a7b57e06"
      },
      "execution_count": null,
      "outputs": [
        {
          "output_type": "stream",
          "name": "stdout",
          "text": [
            "Neighbors of A: ['B', 'C']\n",
            "Edge exists between A and B: True\n",
            "Edge exists between B and A: False\n",
            "Shortest path from A to E: A -> B -> D -> E\n"
          ]
        }
      ]
    }
  ]
}