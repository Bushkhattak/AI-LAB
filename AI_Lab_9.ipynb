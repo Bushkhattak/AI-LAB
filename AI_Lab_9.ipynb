{
  "nbformat": 4,
  "nbformat_minor": 0,
  "metadata": {
    "colab": {
      "provenance": [],
      "authorship_tag": "ABX9TyMb1Zad7a2WxA4ycoIrFv2z",
      "include_colab_link": true
    },
    "kernelspec": {
      "name": "python3",
      "display_name": "Python 3"
    },
    "language_info": {
      "name": "python"
    }
  },
  "cells": [
    {
      "cell_type": "markdown",
      "metadata": {
        "id": "view-in-github",
        "colab_type": "text"
      },
      "source": [
        "<a href=\"https://colab.research.google.com/github/Bushkhattak/AI-LAB/blob/main/AI_Lab_9.ipynb\" target=\"_parent\"><img src=\"https://colab.research.google.com/assets/colab-badge.svg\" alt=\"Open In Colab\"/></a>"
      ]
    },
    {
      "cell_type": "code",
      "execution_count": null,
      "metadata": {
        "colab": {
          "base_uri": "https://localhost:8080/"
        },
        "id": "GRjiprETQblJ",
        "outputId": "c00015cf-326f-4c96-e48f-c9c0ac134566"
      },
      "outputs": [
        {
          "output_type": "stream",
          "name": "stdout",
          "text": [
            "Shortest path from A to G: ['A', 'H', 'E', 'G']\n"
          ]
        }
      ],
      "source": [
        "#Task1\n",
        "from collections import deque\n",
        "\n",
        "def bfs_shortest_path(graph, start, goal):\n",
        "    visited = set()\n",
        "    queue = deque([(start, [start])])  # Store (current_node, path_to_current_node)\n",
        "\n",
        "    while queue:\n",
        "        node, path = queue.popleft()\n",
        "\n",
        "        if node == goal:\n",
        "            return path\n",
        "\n",
        "        if node not in visited:\n",
        "            visited.add(node)\n",
        "\n",
        "            for neighbor in graph[node]:\n",
        "                if neighbor not in visited:\n",
        "                    queue.append((neighbor, path + [neighbor]))\n",
        "\n",
        "    return None\n",
        "\n",
        "\n",
        "graph = {\n",
        "    \"A\": [\"B\", \"C\", \"H\"],\n",
        "    \"B\": [\"A\"],\n",
        "    \"C\": [\"A\", \"D\"],\n",
        "    \"D\": [\"C\", \"E\", \"F\"],\n",
        "    \"E\": [\"D\", \"G\", \"H\"],\n",
        "    \"F\": [\"D\", \"G\"],\n",
        "    \"G\": [\"E\", \"F\"],\n",
        "    \"H\": [\"A\", \"E\"]\n",
        "}\n",
        "\n",
        "start_node = \"A\"\n",
        "goal_node = \"G\"\n",
        "path = bfs_shortest_path(graph, start_node, goal_node)\n",
        "print(f\"Shortest path from {start_node} to {goal_node}: {path}\")\n"
      ]
    },
    {
      "cell_type": "code",
      "source": [
        "# Task2\n",
        "def dfs(graph, start, visited=None):\n",
        "    if visited is None:\n",
        "        visited = set()\n",
        "\n",
        "    visited.add(start)\n",
        "\n",
        "    # Store the visited nodes in a list for output\n",
        "    output = [start]\n",
        "\n",
        "    for neighbor in graph[start]:\n",
        "        if neighbor not in visited:\n",
        "            output.extend(dfs(graph, neighbor, visited))\n",
        "\n",
        "    return output\n",
        "\n",
        "\n",
        "graph = {\n",
        "    \"A\": [\"B\", \"C\", \"H\"],\n",
        "    \"B\": [\"A\"],\n",
        "    \"C\": [\"A\", \"D\"],\n",
        "    \"D\": [\"C\", \"E\", \"F\"],\n",
        "    \"E\": [\"D\", \"G\", \"H\"],\n",
        "    \"F\": [\"D\", \"G\"],\n",
        "    \"G\": [\"E\", \"F\"],\n",
        "    \"H\": [\"A\", \"E\"]\n",
        "}\n",
        "\n",
        "result = dfs(graph, \"A\")\n",
        "print(\"DFS traversal:\", result)\n"
      ],
      "metadata": {
        "colab": {
          "base_uri": "https://localhost:8080/"
        },
        "id": "OgHy5Ei5Q3eG",
        "outputId": "6bb5c9c0-76c7-44d7-98cc-56fad5ed067d"
      },
      "execution_count": null,
      "outputs": [
        {
          "output_type": "stream",
          "name": "stdout",
          "text": [
            "DFS traversal: ['A', 'B', 'C', 'D', 'E', 'G', 'F', 'H']\n"
          ]
        }
      ]
    },
    {
      "cell_type": "code",
      "source": [
        "#Task3\n",
        "from collections import deque\n",
        "\n",
        "\n",
        "def find_blank(board):\n",
        "    for i in range(3):\n",
        "        for j in range(3):\n",
        "            if board[i][j] == 0:\n",
        "                return i, j\n",
        "\n",
        "def move_blank(board, x, y, new_x, new_y):\n",
        "    new_board = [row[:] for row in board]\n",
        "    new_board[x][y], new_board[new_x][new_y] = new_board[new_x][new_y], new_board[x][y]\n",
        "    return new_board\n",
        "\n",
        "\n",
        "def is_goal(board, goal):\n",
        "    return board == goal\n",
        "\n",
        "def bfs(initial, goal):\n",
        "    queue = deque([(initial, [])])\n",
        "    visited = set()\n",
        "    visited.add(tuple(map(tuple, initial)))\n",
        "\n",
        "    while queue:\n",
        "        state, path = queue.popleft()\n",
        "        if is_goal(state, goal):\n",
        "            return path\n",
        "\n",
        "        x, y = find_blank(state)\n",
        "\n",
        "\n",
        "        moves = [(x-1, y), (x+1, y), (x, y-1), (x, y+1)]\n",
        "\n",
        "        for new_x, new_y in moves:\n",
        "            if 0 <= new_x < 3 and 0 <= new_y < 3:\n",
        "                new_state = move_blank(state, x, y, new_x, new_y)\n",
        "\n",
        "\n",
        "                new_state_tuple = tuple(map(tuple, new_state))\n",
        "                if new_state_tuple not in visited:\n",
        "                    visited.add(new_state_tuple)\n",
        "                    queue.append((new_state, path + [new_state]))\n",
        "    return None\n",
        "\n",
        "\n",
        "initial_state = [\n",
        "    [1, 2, 3],\n",
        "    [4, 0, 5],\n",
        "    [7, 8, 6]\n",
        "]\n",
        "\n",
        "goal_state = [\n",
        "    [1, 2, 3],\n",
        "    [4, 5, 6],\n",
        "    [7, 8, 0]\n",
        "]\n",
        "\n",
        "\n",
        "solution = bfs(initial_state, goal_state)\n",
        "\n",
        "\n",
        "if solution:\n",
        "    print(\"Solution path:\")\n",
        "    for step in solution:\n",
        "        for row in step:\n",
        "            print(row)\n",
        "        print()\n",
        "else:\n",
        "    print(\"No solution found.\")\n"
      ],
      "metadata": {
        "colab": {
          "base_uri": "https://localhost:8080/"
        },
        "id": "oqH3mAdQQ_xW",
        "outputId": "90bc598a-33db-4229-cb0f-b070d910a882"
      },
      "execution_count": null,
      "outputs": [
        {
          "output_type": "stream",
          "name": "stdout",
          "text": [
            "Solution path:\n",
            "[1, 2, 3]\n",
            "[4, 5, 0]\n",
            "[7, 8, 6]\n",
            "\n",
            "[1, 2, 3]\n",
            "[4, 5, 6]\n",
            "[7, 8, 0]\n",
            "\n"
          ]
        }
      ]
    },
    {
      "cell_type": "code",
      "source": [
        "#Task4\n",
        "def dfs(graph, start, goal, path=None, visited=None):\n",
        "    if visited is None:\n",
        "        visited = set()\n",
        "    if path is None:\n",
        "        path = []\n",
        "\n",
        "    path.append(start)\n",
        "    visited.add(start)\n",
        "\n",
        "\n",
        "    if start == goal:\n",
        "        return path\n",
        "\n",
        "\n",
        "    for neighbor, distance in graph[start]:\n",
        "        if neighbor not in visited:\n",
        "            result = dfs(graph, neighbor, goal, path.copy(), visited.copy())\n",
        "            if result:\n",
        "                return result\n",
        "\n",
        "    return None\n",
        "\n",
        "\n",
        "graph = {\n",
        "    \"Arad\": [(\"Zerind\", 75), (\"Timisoara\", 118), (\"Sibiu\", 140)],\n",
        "    \"Zerind\": [(\"Arad\", 75), (\"Oradea\", 71)],\n",
        "    \"Oradea\": [(\"Zerind\", 71), (\"Sibiu\", 151)],\n",
        "    \"Timisoara\": [(\"Arad\", 118), (\"Lugoj\", 111)],\n",
        "    \"Lugoj\": [(\"Timisoara\", 111), (\"Mehadia\", 70)],\n",
        "    \"Mehadia\": [(\"Lugoj\", 70), (\"Drobeta\", 75)],\n",
        "    \"Drobeta\": [(\"Mehadia\", 75), (\"Craiova\", 120)],\n",
        "    \"Craiova\": [(\"Drobeta\", 120), (\"Rimnicu Vilcea\", 146), (\"Pitesti\", 138)],\n",
        "    \"Rimnicu Vilcea\": [(\"Craiova\", 146), (\"Sibiu\", 80), (\"Pitesti\", 97)],\n",
        "    \"Sibiu\": [(\"Arad\", 140), (\"Oradea\", 151), (\"Fagaras\", 99), (\"Rimnicu Vilcea\", 80)],\n",
        "    \"Fagaras\": [(\"Sibiu\", 99), (\"Bucharest\", 211)],\n",
        "    \"Pitesti\": [(\"Rimnicu Vilcea\", 97), (\"Craiova\", 138), (\"Bucharest\", 101)],\n",
        "    \"Bucharest\": [(\"Fagaras\", 211), (\"Pitesti\", 101), (\"Giurgiu\", 90), (\"Urziceni\", 85)],\n",
        "    \"Giurgiu\": [(\"Bucharest\", 90)],\n",
        "    \"Urziceni\": [(\"Bucharest\", 85), (\"Hirsova\", 98), (\"Vaslui\", 142)],\n",
        "    \"Hirsova\": [(\"Urziceni\", 98), (\"Eforie\", 86)],\n",
        "    \"Eforie\": [(\"Hirsova\", 86)],\n",
        "    \"Vaslui\": [(\"Urziceni\", 142), (\"Iasi\", 92)],\n",
        "    \"Iasi\": [(\"Vaslui\", 92), (\"Neamt\", 87)],\n",
        "    \"Neamt\": [(\"Iasi\", 87)]\n",
        "}\n",
        "\n",
        "\n",
        "start_city = \"Arad\"\n",
        "goal_city = \"Bucharest\"\n",
        "path = dfs(graph, start_city, goal_city)\n",
        "\n",
        "\n",
        "if path:\n",
        "    print(\"Path from Arad to Bucharest:\")\n",
        "    print(\" -> \".join(path))\n",
        "else:\n",
        "    print(\"No path found from Arad to Bucharest.\")\n"
      ],
      "metadata": {
        "colab": {
          "base_uri": "https://localhost:8080/"
        },
        "id": "vx5z60OgRH8B",
        "outputId": "0fabec48-e6d4-49aa-dd3c-a4d9a78da73a"
      },
      "execution_count": null,
      "outputs": [
        {
          "output_type": "stream",
          "name": "stdout",
          "text": [
            "Path from Arad to Bucharest:\n",
            "Arad -> Zerind -> Oradea -> Sibiu -> Fagaras -> Bucharest\n"
          ]
        }
      ]
    }
  ]
}