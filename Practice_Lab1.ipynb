{
  "nbformat": 4,
  "nbformat_minor": 0,
  "metadata": {
    "colab": {
      "provenance": [],
      "authorship_tag": "ABX9TyMq1c5GV2T9WO6Wk1ZK1jOA",
      "include_colab_link": true
    },
    "kernelspec": {
      "name": "python3",
      "display_name": "Python 3"
    },
    "language_info": {
      "name": "python"
    }
  },
  "cells": [
    {
      "cell_type": "markdown",
      "metadata": {
        "id": "view-in-github",
        "colab_type": "text"
      },
      "source": [
        "<a href=\"https://colab.research.google.com/github/Bushkhattak/AI-LAB/blob/main/Practice_Lab1.ipynb\" target=\"_parent\"><img src=\"https://colab.research.google.com/assets/colab-badge.svg\" alt=\"Open In Colab\"/></a>"
      ]
    },
    {
      "cell_type": "code",
      "execution_count": null,
      "metadata": {
        "colab": {
          "base_uri": "https://localhost:8080/"
        },
        "id": "dJhzCgkUbr_z",
        "outputId": "d504a636-00e1-4862-ae70-ef1730a2b104"
      },
      "outputs": [
        {
          "output_type": "stream",
          "name": "stdout",
          "text": [
            "Hello World\n"
          ]
        }
      ],
      "source": [
        "print('Hello World');\n",
        "#print('Hello World');"
      ]
    },
    {
      "cell_type": "code",
      "source": [
        "num1 = 1.5\n",
        "num2 = 2.5\n",
        "sum = num1 + num2\n",
        "print('The sum of {} and {} is {}'.format(num1, num2, sum))\n"
      ],
      "metadata": {
        "colab": {
          "base_uri": "https://localhost:8080/"
        },
        "id": "dEdau-7vcKZf",
        "outputId": "c277ffac-d6d9-4895-99f5-af37c60dded8"
      },
      "execution_count": null,
      "outputs": [
        {
          "output_type": "stream",
          "name": "stdout",
          "text": [
            "The sum of 1.5 and 2.5 is 4.0\n"
          ]
        }
      ]
    },
    {
      "cell_type": "code",
      "source": [
        "num1 = input('Enter 1st number')\n",
        "num2 = input('Enter 2nd number')\n",
        "sum = float(num1) + float(num2)\n",
        "print('The sum of {} and {} is {}'.format(num1 , num2 , sum))\n",
        "#num1 = input('Enter 1st number')\n",
        "#num2 = input('Enter 2nd number')\n",
        "#sum = float(num1) + float(num2)\n",
        "#print('The sum of {}and {} is {}'.format(num1, num2, sum))"
      ],
      "metadata": {
        "colab": {
          "base_uri": "https://localhost:8080/"
        },
        "id": "KpWumNjFdj54",
        "outputId": "be0e96eb-b0d7-4cbc-fa78-c0a179ecf8ca"
      },
      "execution_count": null,
      "outputs": [
        {
          "output_type": "stream",
          "name": "stdout",
          "text": [
            "Enter 1st number34\n",
            "Enter 2nd number4.5\n",
            "The sum of 34 and 4.5 is 38.5\n"
          ]
        }
      ]
    },
    {
      "cell_type": "code",
      "source": [
        "x = 5\n",
        "print(type(x))\n",
        "#x = 4\n",
        "#print(type(x))"
      ],
      "metadata": {
        "colab": {
          "base_uri": "https://localhost:8080/"
        },
        "id": "_wvOM1BMfqnF",
        "outputId": "3ccba520-c3b8-4735-9ed8-97432f5631bb"
      },
      "execution_count": null,
      "outputs": [
        {
          "output_type": "stream",
          "name": "stdout",
          "text": [
            "<class 'int'>\n"
          ]
        }
      ]
    },
    {
      "cell_type": "code",
      "source": [
        "name = \"Bushra\"\n",
        "\n",
        "if name == 16 :\n",
        " print ('Not eligible')\n",
        "else :\n",
        "  print('Eligible')\n"
      ],
      "metadata": {
        "colab": {
          "base_uri": "https://localhost:8080/"
        },
        "id": "yY12luvagA2U",
        "outputId": "433c1f11-cd38-4c48-fb7e-3705fbc9d3e0"
      },
      "execution_count": null,
      "outputs": [
        {
          "output_type": "stream",
          "name": "stdout",
          "text": [
            "Eligible\n"
          ]
        }
      ]
    },
    {
      "cell_type": "code",
      "source": [
        "name = \"Shafy\"\n",
        "age = 22\n",
        "color = \"black\"\n",
        "\n",
        "print(name)\n",
        "print(age)\n",
        "print(color)"
      ],
      "metadata": {
        "colab": {
          "base_uri": "https://localhost:8080/"
        },
        "id": "1r7fKPuIh78V",
        "outputId": "7be9f652-3f5b-4690-8763-00b958e2527f"
      },
      "execution_count": null,
      "outputs": [
        {
          "output_type": "stream",
          "name": "stdout",
          "text": [
            "Shafy\n",
            "22\n",
            "black\n"
          ]
        }
      ]
    },
    {
      "cell_type": "code",
      "source": [
        "name = input('Enter your good name:')\n",
        "print(name)\n",
        "#name = input('Enter your name')\n",
        "#print(name)"
      ],
      "metadata": {
        "colab": {
          "base_uri": "https://localhost:8080/"
        },
        "id": "gpqGhXYOiYp7",
        "outputId": "9dc310b7-6140-47fe-b315-02d6a5e0e8f5"
      },
      "execution_count": null,
      "outputs": [
        {
          "output_type": "stream",
          "name": "stdout",
          "text": [
            "Enter your good name:Bushii\n",
            "Bushii\n"
          ]
        }
      ]
    },
    {
      "cell_type": "code",
      "source": [
        "#swapping two variables\n",
        "a = 2\n",
        "b = 4\n",
        "#let swap them\n",
        "a , b = b, a\n",
        "print(a)\n",
        "print(b)"
      ],
      "metadata": {
        "id": "x2XWSkh5jXHd",
        "colab": {
          "base_uri": "https://localhost:8080/"
        },
        "outputId": "2c2c944f-524a-4672-bd49-65b6d4cca337"
      },
      "execution_count": null,
      "outputs": [
        {
          "output_type": "stream",
          "name": "stdout",
          "text": [
            "4\n",
            "2\n"
          ]
        }
      ]
    }
  ]
}